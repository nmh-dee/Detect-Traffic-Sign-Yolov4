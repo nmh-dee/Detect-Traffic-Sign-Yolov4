{
  "nbformat": 4,
  "nbformat_minor": 0,
  "metadata": {
    "colab": {
      "name": "Training-traffic-Sign-YoloV4.ipynb",
      "provenance": [],
      "collapsed_sections": [],
      "include_colab_link": true
    },
    "kernelspec": {
      "name": "python3",
      "display_name": "Python 3"
    },
    "accelerator": "GPU"
  },
  "cells": [
    {
      "cell_type": "markdown",
      "metadata": {
        "id": "view-in-github",
        "colab_type": "text"
      },
      "source": [
        "<a href=\"https://colab.research.google.com/github/nmh-dee/Detect-traffic-sign--yolov4/blob/main/Training_traffic_Sign_YoloV4.ipynb\" target=\"_parent\"><img src=\"https://colab.research.google.com/assets/colab-badge.svg\" alt=\"Open In Colab\"/></a>"
      ]
    },
    {
      "cell_type": "code",
      "metadata": {
        "id": "jjeAqaS8DkEh",
        "colab": {
          "base_uri": "https://localhost:8080/",
          "height": 128
        },
        "outputId": "15c49395-784c-41eb-9458-3eb1c0dbcceb"
      },
      "source": [
        "from google.colab import drive\n",
        "drive.mount('/content/gdrive')"
      ],
      "execution_count": null,
      "outputs": [
        {
          "output_type": "stream",
          "text": [
            "Go to this URL in a browser: https://accounts.google.com/o/oauth2/auth?client_id=947318989803-6bn6qk8qdgf4n4g3pfee6491hc0brc4i.apps.googleusercontent.com&redirect_uri=urn%3aietf%3awg%3aoauth%3a2.0%3aoob&response_type=code&scope=email%20https%3a%2f%2fwww.googleapis.com%2fauth%2fdocs.test%20https%3a%2f%2fwww.googleapis.com%2fauth%2fdrive%20https%3a%2f%2fwww.googleapis.com%2fauth%2fdrive.photos.readonly%20https%3a%2f%2fwww.googleapis.com%2fauth%2fpeopleapi.readonly\n",
            "\n",
            "Enter your authorization code:\n",
            "··········\n",
            "Mounted at /content/gdrive\n"
          ],
          "name": "stdout"
        }
      ]
    },
    {
      "cell_type": "code",
      "metadata": {
        "id": "YVRhnr3yki4Z",
        "colab": {
          "base_uri": "https://localhost:8080/",
          "height": 35
        },
        "outputId": "9ef846cf-db60-4f32-d845-e570c19e3fd0"
      },
      "source": [
        "%cd /content/gdrive/My\\ Drive/darknet\n",
        "!echo \"Đường cấm\" > yolo.names\n",
        "!echo \"Cấm đi ngược chiều\" >> yolo.names\n",
        "!echo \"Cấm ô tô\" >> yolo.names\n",
        "!echo \"Cấm ô tô rẽ phải\" >> yolo.names\n",
        "!echo \"Cấm ô tô rẽ trái\" >> yolo.names\n",
        "!echo \"Cấm dừng và đỗ xe\" >> yolo.names\n",
        "!echo \"Cấm đỗ xe\" >> yolo.names\n",
        "!echo \"Cấm rẽ trái\" >> yolo.names\n",
        "!echo \"Cấm rẽ trái rẽ phải\" >> yolo.names\n",
        "!echo \"Cấm quay đầu\" >> yolo.names\n",
        "!echo \"Cấm ô tô quay đầu\" >> yolo.names\n",
        "!echo \"Cấm đỗ xe ngày lẻ\" >> yolo.names\n",
        "!echo \"Cấm đỗ xe ngày chẵn\" >> yolo.names\n",
        "!echo \"Cấm ô tô khách và ô tô tải\" >> yolo.names\n",
        "!echo \"Tốc độ tối đa cho phép\" >> yolo.names\n",
        "!echo \"Cấm người đi bộ\" >> yolo.names\n",
        "!echo \"Hạn chế chiều cao\" >> yolo.names\n",
        "!echo \"Hạn chế trọng lượng xe\" >> yolo.names\n",
        "!echo \"Phía trên cấp điện\" >> yolo.names\n",
        "!echo \"Giao nhau với đường không ưu tiên\" >> yolo.names\n",
        "!echo \"Trẻ em\" >> yolo.names\n",
        "!echo \"Đi chậm\" >> yolo.names\n",
        "!echo \"Nguy hiểm khác\" >> yolo.names\n",
        "!echo \"Hướng phải đi vòng qua trái\" >> yolo.names\n",
        "!echo \"Nơi giao nhau chạy theo vòng xuyến\" >> yolo.names"
      ],
      "execution_count": null,
      "outputs": [
        {
          "output_type": "stream",
          "text": [
            "/content/gdrive/My Drive/darknet\n"
          ],
          "name": "stdout"
        }
      ]
    },
    {
      "cell_type": "code",
      "metadata": {
        "id": "8t8R5Dlwkjdq",
        "colab": {
          "base_uri": "https://localhost:8080/",
          "height": 35
        },
        "outputId": "a17d9f3b-e3c6-44c1-b137-bcfbc6888312"
      },
      "source": [
        "%cd /content/gdrive/My\\ Drive/darknet\n",
        " \n",
        "import glob2\n",
        "import math  \n",
        "import os\n",
        "import numpy as np\n",
        " \n",
        "files = []\n",
        "for ext in [\"*.png\", \"*.jpeg\", \"*.jpg\",\"*.ppm*\"]:\n",
        "  image_files = glob2.glob(os.path.join(\"data/\", ext))\n",
        "  files += image_files\n",
        " \n",
        "nb_val = math.floor(len(files)*0.2)\n",
        "rand_idx = np.random.randint(0, len(files), nb_val)\n",
        " \n",
        "# Tạo file train.txt\n",
        "with open(\"train.txt\", \"w\") as f:\n",
        "  for idx in np.arange(len(files)):\n",
        "    if (os.path.exists(files[idx][:-3] + \"txt\")):\n",
        "      f.write(files[idx]+'\\n')\n",
        " \n",
        "# Tạo file vali.txt\n",
        "with open(\"val.txt\", \"w\") as f:\n",
        "  for idx in np.arange(len(files)):\n",
        "    if (idx in rand_idx) and (os.path.exists(files[idx][:-3] + \"txt\")):\n",
        "      f.write(files[idx]+'\\n')"
      ],
      "execution_count": null,
      "outputs": [
        {
          "output_type": "stream",
          "text": [
            "/content/gdrive/My Drive/darknet\n"
          ],
          "name": "stdout"
        }
      ]
    },
    {
      "cell_type": "code",
      "metadata": {
        "id": "h9d6f4swk3Ng",
        "colab": {
          "base_uri": "https://localhost:8080/",
          "height": 35
        },
        "outputId": "324be97f-701e-4ea9-d498-5015338ff6b1"
      },
      "source": [
        "%cd /content/gdrive/My\\ Drive/darknet\n",
        "#!mkdir backup\n",
        "!echo classes=25 > yolo.data\n",
        "!echo train=train.txt >> yolo.data\n",
        "!echo valid=val.txt >> yolo.data\n",
        "!echo names=yolo.names >> yolo.data\n",
        "!echo backup=backup >> yolo.data"
      ],
      "execution_count": null,
      "outputs": [
        {
          "output_type": "stream",
          "text": [
            "/content/gdrive/My Drive/darknet\n"
          ],
          "name": "stdout"
        }
      ]
    },
    {
      "cell_type": "code",
      "metadata": {
        "id": "fjCdld12lIx4",
        "colab": {
          "base_uri": "https://localhost:8080/",
          "height": 92
        },
        "outputId": "04aa37a3-f2e2-467b-d54d-b857c9279929"
      },
      "source": [
        "%cd /content/gdrive/My\\ Drive/darknet\n",
        "!rm darknet\n",
        "!make"
      ],
      "execution_count": null,
      "outputs": [
        {
          "output_type": "stream",
          "text": [
            "/content/gdrive/My Drive/darknet\n",
            "chmod +x *.sh\n",
            "g++ -std=c++11 -std=c++11 -Iinclude/ -I3rdparty/stb/include -DOPENCV `pkg-config --cflags opencv4 2> /dev/null || pkg-config --cflags opencv` -DGPU -I/usr/local/cuda/include/ -DCUDNN -Wall -Wfatal-errors -Wno-unused-result -Wno-unknown-pragmas -fPIC -Ofast -DOPENCV -DGPU -DCUDNN -I/usr/local/cudnn/include obj/image_opencv.o obj/http_stream.o obj/gemm.o obj/utils.o obj/dark_cuda.o obj/convolutional_layer.o obj/list.o obj/image.o obj/activations.o obj/im2col.o obj/col2im.o obj/blas.o obj/crop_layer.o obj/dropout_layer.o obj/maxpool_layer.o obj/softmax_layer.o obj/data.o obj/matrix.o obj/network.o obj/connected_layer.o obj/cost_layer.o obj/parser.o obj/option_list.o obj/darknet.o obj/detection_layer.o obj/captcha.o obj/route_layer.o obj/writing.o obj/box.o obj/nightmare.o obj/normalization_layer.o obj/avgpool_layer.o obj/coco.o obj/dice.o obj/yolo.o obj/detector.o obj/layer.o obj/compare.o obj/classifier.o obj/local_layer.o obj/swag.o obj/shortcut_layer.o obj/activation_layer.o obj/rnn_layer.o obj/gru_layer.o obj/rnn.o obj/rnn_vid.o obj/crnn_layer.o obj/demo.o obj/tag.o obj/cifar.o obj/go.o obj/batchnorm_layer.o obj/art.o obj/region_layer.o obj/reorg_layer.o obj/reorg_old_layer.o obj/super.o obj/voxel.o obj/tree.o obj/yolo_layer.o obj/gaussian_yolo_layer.o obj/upsample_layer.o obj/lstm_layer.o obj/conv_lstm_layer.o obj/scale_channels_layer.o obj/sam_layer.o obj/convolutional_kernels.o obj/activation_kernels.o obj/im2col_kernels.o obj/col2im_kernels.o obj/blas_kernels.o obj/crop_layer_kernels.o obj/dropout_layer_kernels.o obj/maxpool_layer_kernels.o obj/network_kernels.o obj/avgpool_layer_kernels.o -o darknet -lm -pthread `pkg-config --libs opencv4 2> /dev/null || pkg-config --libs opencv` -L/usr/local/cuda/lib64 -lcuda -lcudart -lcublas -lcurand -L/usr/local/cudnn/lib64 -lcudnn -lstdc++\n"
          ],
          "name": "stdout"
        }
      ]
    },
    {
      "cell_type": "code",
      "metadata": {
        "id": "Pyr84lJRlOWv",
        "colab": {
          "base_uri": "https://localhost:8080/",
          "height": 1000
        },
        "outputId": "fef2d84a-0cce-40bc-b8f6-3f4e47894c5e"
      },
      "source": [
        "%cd /content/gdrive/My\\ Drive/darknet\n",
        "!./darknet detector train yolo.data cfg/yolov4-custom.cfg yolov4-custom_last.weights -dont_show"
      ],
      "execution_count": null,
      "outputs": [
        {
          "output_type": "stream",
          "text": [
            "/content/gdrive/My Drive/darknet\n",
            " CUDA-version: 10010 (10010), cuDNN: 7.6.5, GPU count: 1  \n",
            " OpenCV version: 3.2.0\n",
            "yolov4-custom\n",
            " 0 : compute_capability = 370, cudnn_half = 0, GPU: Tesla K80 \n",
            "net.optimized_memory = 0 \n",
            "mini_batch = 1, batch = 64, time_steps = 1, train = 1 \n",
            "   layer   filters  size/strd(dil)      input                output\n",
            "   0 conv     32       3 x 3/ 1    608 x 608 x   3 ->  608 x 608 x  32 0.639 BF\n",
            "   1 conv     64       3 x 3/ 2    608 x 608 x  32 ->  304 x 304 x  64 3.407 BF\n",
            "   2 conv     64       1 x 1/ 1    304 x 304 x  64 ->  304 x 304 x  64 0.757 BF\n",
            "   3 route  1 \t\t                           ->  304 x 304 x  64 \n",
            "   4 conv     64       1 x 1/ 1    304 x 304 x  64 ->  304 x 304 x  64 0.757 BF\n",
            "   5 conv     32       1 x 1/ 1    304 x 304 x  64 ->  304 x 304 x  32 0.379 BF\n",
            "   6 conv     64       3 x 3/ 1    304 x 304 x  32 ->  304 x 304 x  64 3.407 BF\n",
            "   7 Shortcut Layer: 4,  wt = 0, wn = 0, outputs: 304 x 304 x  64 0.006 BF\n",
            "   8 conv     64       1 x 1/ 1    304 x 304 x  64 ->  304 x 304 x  64 0.757 BF\n",
            "   9 route  8 2 \t                           ->  304 x 304 x 128 \n",
            "  10 conv     64       1 x 1/ 1    304 x 304 x 128 ->  304 x 304 x  64 1.514 BF\n",
            "  11 conv    128       3 x 3/ 2    304 x 304 x  64 ->  152 x 152 x 128 3.407 BF\n",
            "  12 conv     64       1 x 1/ 1    152 x 152 x 128 ->  152 x 152 x  64 0.379 BF\n",
            "  13 route  11 \t\t                           ->  152 x 152 x 128 \n",
            "  14 conv     64       1 x 1/ 1    152 x 152 x 128 ->  152 x 152 x  64 0.379 BF\n",
            "  15 conv     64       1 x 1/ 1    152 x 152 x  64 ->  152 x 152 x  64 0.189 BF\n",
            "  16 conv     64       3 x 3/ 1    152 x 152 x  64 ->  152 x 152 x  64 1.703 BF\n",
            "  17 Shortcut Layer: 14,  wt = 0, wn = 0, outputs: 152 x 152 x  64 0.001 BF\n",
            "  18 conv     64       1 x 1/ 1    152 x 152 x  64 ->  152 x 152 x  64 0.189 BF\n",
            "  19 conv     64       3 x 3/ 1    152 x 152 x  64 ->  152 x 152 x  64 1.703 BF\n",
            "  20 Shortcut Layer: 17,  wt = 0, wn = 0, outputs: 152 x 152 x  64 0.001 BF\n",
            "  21 conv     64       1 x 1/ 1    152 x 152 x  64 ->  152 x 152 x  64 0.189 BF\n",
            "  22 route  21 12 \t                           ->  152 x 152 x 128 \n",
            "  23 conv    128       1 x 1/ 1    152 x 152 x 128 ->  152 x 152 x 128 0.757 BF\n",
            "  24 conv    256       3 x 3/ 2    152 x 152 x 128 ->   76 x  76 x 256 3.407 BF\n",
            "  25 conv    128       1 x 1/ 1     76 x  76 x 256 ->   76 x  76 x 128 0.379 BF\n",
            "  26 route  24 \t\t                           ->   76 x  76 x 256 \n",
            "  27 conv    128       1 x 1/ 1     76 x  76 x 256 ->   76 x  76 x 128 0.379 BF\n",
            "  28 conv    128       1 x 1/ 1     76 x  76 x 128 ->   76 x  76 x 128 0.189 BF\n",
            "  29 conv    128       3 x 3/ 1     76 x  76 x 128 ->   76 x  76 x 128 1.703 BF\n",
            "  30 Shortcut Layer: 27,  wt = 0, wn = 0, outputs:  76 x  76 x 128 0.001 BF\n",
            "  31 conv    128       1 x 1/ 1     76 x  76 x 128 ->   76 x  76 x 128 0.189 BF\n",
            "  32 conv    128       3 x 3/ 1     76 x  76 x 128 ->   76 x  76 x 128 1.703 BF\n",
            "  33 Shortcut Layer: 30,  wt = 0, wn = 0, outputs:  76 x  76 x 128 0.001 BF\n",
            "  34 conv    128       1 x 1/ 1     76 x  76 x 128 ->   76 x  76 x 128 0.189 BF\n",
            "  35 conv    128       3 x 3/ 1     76 x  76 x 128 ->   76 x  76 x 128 1.703 BF\n",
            "  36 Shortcut Layer: 33,  wt = 0, wn = 0, outputs:  76 x  76 x 128 0.001 BF\n",
            "  37 conv    128       1 x 1/ 1     76 x  76 x 128 ->   76 x  76 x 128 0.189 BF\n",
            "  38 conv    128       3 x 3/ 1     76 x  76 x 128 ->   76 x  76 x 128 1.703 BF\n",
            "  39 Shortcut Layer: 36,  wt = 0, wn = 0, outputs:  76 x  76 x 128 0.001 BF\n",
            "  40 conv    128       1 x 1/ 1     76 x  76 x 128 ->   76 x  76 x 128 0.189 BF\n",
            "  41 conv    128       3 x 3/ 1     76 x  76 x 128 ->   76 x  76 x 128 1.703 BF\n",
            "  42 Shortcut Layer: 39,  wt = 0, wn = 0, outputs:  76 x  76 x 128 0.001 BF\n",
            "  43 conv    128       1 x 1/ 1     76 x  76 x 128 ->   76 x  76 x 128 0.189 BF\n",
            "  44 conv    128       3 x 3/ 1     76 x  76 x 128 ->   76 x  76 x 128 1.703 BF\n",
            "  45 Shortcut Layer: 42,  wt = 0, wn = 0, outputs:  76 x  76 x 128 0.001 BF\n",
            "  46 conv    128       1 x 1/ 1     76 x  76 x 128 ->   76 x  76 x 128 0.189 BF\n",
            "  47 conv    128       3 x 3/ 1     76 x  76 x 128 ->   76 x  76 x 128 1.703 BF\n",
            "  48 Shortcut Layer: 45,  wt = 0, wn = 0, outputs:  76 x  76 x 128 0.001 BF\n",
            "  49 conv    128       1 x 1/ 1     76 x  76 x 128 ->   76 x  76 x 128 0.189 BF\n",
            "  50 conv    128       3 x 3/ 1     76 x  76 x 128 ->   76 x  76 x 128 1.703 BF\n",
            "  51 Shortcut Layer: 48,  wt = 0, wn = 0, outputs:  76 x  76 x 128 0.001 BF\n",
            "  52 conv    128       1 x 1/ 1     76 x  76 x 128 ->   76 x  76 x 128 0.189 BF\n",
            "  53 route  52 25 \t                           ->   76 x  76 x 256 \n",
            "  54 conv    256       1 x 1/ 1     76 x  76 x 256 ->   76 x  76 x 256 0.757 BF\n",
            "  55 conv    512       3 x 3/ 2     76 x  76 x 256 ->   38 x  38 x 512 3.407 BF\n",
            "  56 conv    256       1 x 1/ 1     38 x  38 x 512 ->   38 x  38 x 256 0.379 BF\n",
            "  57 route  55 \t\t                           ->   38 x  38 x 512 \n",
            "  58 conv    256       1 x 1/ 1     38 x  38 x 512 ->   38 x  38 x 256 0.379 BF\n",
            "  59 conv    256       1 x 1/ 1     38 x  38 x 256 ->   38 x  38 x 256 0.189 BF\n",
            "  60 conv    256       3 x 3/ 1     38 x  38 x 256 ->   38 x  38 x 256 1.703 BF\n",
            "  61 Shortcut Layer: 58,  wt = 0, wn = 0, outputs:  38 x  38 x 256 0.000 BF\n",
            "  62 conv    256       1 x 1/ 1     38 x  38 x 256 ->   38 x  38 x 256 0.189 BF\n",
            "  63 conv    256       3 x 3/ 1     38 x  38 x 256 ->   38 x  38 x 256 1.703 BF\n",
            "  64 Shortcut Layer: 61,  wt = 0, wn = 0, outputs:  38 x  38 x 256 0.000 BF\n",
            "  65 conv    256       1 x 1/ 1     38 x  38 x 256 ->   38 x  38 x 256 0.189 BF\n",
            "  66 conv    256       3 x 3/ 1     38 x  38 x 256 ->   38 x  38 x 256 1.703 BF\n",
            "  67 Shortcut Layer: 64,  wt = 0, wn = 0, outputs:  38 x  38 x 256 0.000 BF\n",
            "  68 conv    256       1 x 1/ 1     38 x  38 x 256 ->   38 x  38 x 256 0.189 BF\n",
            "  69 conv    256       3 x 3/ 1     38 x  38 x 256 ->   38 x  38 x 256 1.703 BF\n",
            "  70 Shortcut Layer: 67,  wt = 0, wn = 0, outputs:  38 x  38 x 256 0.000 BF\n",
            "  71 conv    256       1 x 1/ 1     38 x  38 x 256 ->   38 x  38 x 256 0.189 BF\n",
            "  72 conv    256       3 x 3/ 1     38 x  38 x 256 ->   38 x  38 x 256 1.703 BF\n",
            "  73 Shortcut Layer: 70,  wt = 0, wn = 0, outputs:  38 x  38 x 256 0.000 BF\n",
            "  74 conv    256       1 x 1/ 1     38 x  38 x 256 ->   38 x  38 x 256 0.189 BF\n",
            "  75 conv    256       3 x 3/ 1     38 x  38 x 256 ->   38 x  38 x 256 1.703 BF\n",
            "  76 Shortcut Layer: 73,  wt = 0, wn = 0, outputs:  38 x  38 x 256 0.000 BF\n",
            "  77 conv    256       1 x 1/ 1     38 x  38 x 256 ->   38 x  38 x 256 0.189 BF\n",
            "  78 conv    256       3 x 3/ 1     38 x  38 x 256 ->   38 x  38 x 256 1.703 BF\n",
            "  79 Shortcut Layer: 76,  wt = 0, wn = 0, outputs:  38 x  38 x 256 0.000 BF\n",
            "  80 conv    256       1 x 1/ 1     38 x  38 x 256 ->   38 x  38 x 256 0.189 BF\n",
            "  81 conv    256       3 x 3/ 1     38 x  38 x 256 ->   38 x  38 x 256 1.703 BF\n",
            "  82 Shortcut Layer: 79,  wt = 0, wn = 0, outputs:  38 x  38 x 256 0.000 BF\n",
            "  83 conv    256       1 x 1/ 1     38 x  38 x 256 ->   38 x  38 x 256 0.189 BF\n",
            "  84 route  83 56 \t                           ->   38 x  38 x 512 \n",
            "  85 conv    512       1 x 1/ 1     38 x  38 x 512 ->   38 x  38 x 512 0.757 BF\n",
            "  86 conv   1024       3 x 3/ 2     38 x  38 x 512 ->   19 x  19 x1024 3.407 BF\n",
            "  87 conv    512       1 x 1/ 1     19 x  19 x1024 ->   19 x  19 x 512 0.379 BF\n",
            "  88 route  86 \t\t                           ->   19 x  19 x1024 \n",
            "  89 conv    512       1 x 1/ 1     19 x  19 x1024 ->   19 x  19 x 512 0.379 BF\n",
            "  90 conv    512       1 x 1/ 1     19 x  19 x 512 ->   19 x  19 x 512 0.189 BF\n",
            "  91 conv    512       3 x 3/ 1     19 x  19 x 512 ->   19 x  19 x 512 1.703 BF\n",
            "  92 Shortcut Layer: 89,  wt = 0, wn = 0, outputs:  19 x  19 x 512 0.000 BF\n",
            "  93 conv    512       1 x 1/ 1     19 x  19 x 512 ->   19 x  19 x 512 0.189 BF\n",
            "  94 conv    512       3 x 3/ 1     19 x  19 x 512 ->   19 x  19 x 512 1.703 BF\n",
            "  95 Shortcut Layer: 92,  wt = 0, wn = 0, outputs:  19 x  19 x 512 0.000 BF\n",
            "  96 conv    512       1 x 1/ 1     19 x  19 x 512 ->   19 x  19 x 512 0.189 BF\n",
            "  97 conv    512       3 x 3/ 1     19 x  19 x 512 ->   19 x  19 x 512 1.703 BF\n",
            "  98 Shortcut Layer: 95,  wt = 0, wn = 0, outputs:  19 x  19 x 512 0.000 BF\n",
            "  99 conv    512       1 x 1/ 1     19 x  19 x 512 ->   19 x  19 x 512 0.189 BF\n",
            " 100 conv    512       3 x 3/ 1     19 x  19 x 512 ->   19 x  19 x 512 1.703 BF\n",
            " 101 Shortcut Layer: 98,  wt = 0, wn = 0, outputs:  19 x  19 x 512 0.000 BF\n",
            " 102 conv    512       1 x 1/ 1     19 x  19 x 512 ->   19 x  19 x 512 0.189 BF\n",
            " 103 route  102 87 \t                           ->   19 x  19 x1024 \n",
            " 104 conv   1024       1 x 1/ 1     19 x  19 x1024 ->   19 x  19 x1024 0.757 BF\n",
            " 105 conv    512       1 x 1/ 1     19 x  19 x1024 ->   19 x  19 x 512 0.379 BF\n",
            " 106 conv   1024       3 x 3/ 1     19 x  19 x 512 ->   19 x  19 x1024 3.407 BF\n",
            " 107 conv    512       1 x 1/ 1     19 x  19 x1024 ->   19 x  19 x 512 0.379 BF\n",
            " 108 max                5x 5/ 1     19 x  19 x 512 ->   19 x  19 x 512 0.005 BF\n",
            " 109 route  107 \t\t                           ->   19 x  19 x 512 \n",
            " 110 max                9x 9/ 1     19 x  19 x 512 ->   19 x  19 x 512 0.015 BF\n",
            " 111 route  107 \t\t                           ->   19 x  19 x 512 \n",
            " 112 max               13x13/ 1     19 x  19 x 512 ->   19 x  19 x 512 0.031 BF\n",
            " 113 route  112 110 108 107 \t                   ->   19 x  19 x2048 \n",
            " 114 conv    512       1 x 1/ 1     19 x  19 x2048 ->   19 x  19 x 512 0.757 BF\n",
            " 115 conv   1024       3 x 3/ 1     19 x  19 x 512 ->   19 x  19 x1024 3.407 BF\n",
            " 116 conv    512       1 x 1/ 1     19 x  19 x1024 ->   19 x  19 x 512 0.379 BF\n",
            " 117 conv    256       1 x 1/ 1     19 x  19 x 512 ->   19 x  19 x 256 0.095 BF\n",
            " 118 upsample                 2x    19 x  19 x 256 ->   38 x  38 x 256\n",
            " 119 route  85 \t\t                           ->   38 x  38 x 512 \n",
            " 120 conv    256       1 x 1/ 1     38 x  38 x 512 ->   38 x  38 x 256 0.379 BF\n",
            " 121 route  120 118 \t                           ->   38 x  38 x 512 \n",
            " 122 conv    256       1 x 1/ 1     38 x  38 x 512 ->   38 x  38 x 256 0.379 BF\n",
            " 123 conv    512       3 x 3/ 1     38 x  38 x 256 ->   38 x  38 x 512 3.407 BF\n",
            " 124 conv    256       1 x 1/ 1     38 x  38 x 512 ->   38 x  38 x 256 0.379 BF\n",
            " 125 conv    512       3 x 3/ 1     38 x  38 x 256 ->   38 x  38 x 512 3.407 BF\n",
            " 126 conv    256       1 x 1/ 1     38 x  38 x 512 ->   38 x  38 x 256 0.379 BF\n",
            " 127 conv    128       1 x 1/ 1     38 x  38 x 256 ->   38 x  38 x 128 0.095 BF\n",
            " 128 upsample                 2x    38 x  38 x 128 ->   76 x  76 x 128\n",
            " 129 route  54 \t\t                           ->   76 x  76 x 256 \n",
            " 130 conv    128       1 x 1/ 1     76 x  76 x 256 ->   76 x  76 x 128 0.379 BF\n",
            " 131 route  130 128 \t                           ->   76 x  76 x 256 \n",
            " 132 conv    128       1 x 1/ 1     76 x  76 x 256 ->   76 x  76 x 128 0.379 BF\n",
            " 133 conv    256       3 x 3/ 1     76 x  76 x 128 ->   76 x  76 x 256 3.407 BF\n",
            " 134 conv    128       1 x 1/ 1     76 x  76 x 256 ->   76 x  76 x 128 0.379 BF\n",
            " 135 conv    256       3 x 3/ 1     76 x  76 x 128 ->   76 x  76 x 256 3.407 BF\n",
            " 136 conv    128       1 x 1/ 1     76 x  76 x 256 ->   76 x  76 x 128 0.379 BF\n",
            " 137 conv    256       3 x 3/ 1     76 x  76 x 128 ->   76 x  76 x 256 3.407 BF\n",
            " 138 conv     90       1 x 1/ 1     76 x  76 x 256 ->   76 x  76 x  90 0.266 BF\n",
            " 139 yolo\n",
            "[yolo] params: iou loss: ciou (4), iou_norm: 0.07, cls_norm: 1.00, scale_x_y: 1.20\n",
            "nms_kind: greedynms (1), beta = 0.600000 \n",
            " 140 route  136 \t\t                           ->   76 x  76 x 128 \n",
            " 141 conv    256       3 x 3/ 2     76 x  76 x 128 ->   38 x  38 x 256 0.852 BF\n",
            " 142 route  141 126 \t                           ->   38 x  38 x 512 \n",
            " 143 conv    256       1 x 1/ 1     38 x  38 x 512 ->   38 x  38 x 256 0.379 BF\n",
            " 144 conv    512       3 x 3/ 1     38 x  38 x 256 ->   38 x  38 x 512 3.407 BF\n",
            " 145 conv    256       1 x 1/ 1     38 x  38 x 512 ->   38 x  38 x 256 0.379 BF\n",
            " 146 conv    512       3 x 3/ 1     38 x  38 x 256 ->   38 x  38 x 512 3.407 BF\n",
            " 147 conv    256       1 x 1/ 1     38 x  38 x 512 ->   38 x  38 x 256 0.379 BF\n",
            " 148 conv    512       3 x 3/ 1     38 x  38 x 256 ->   38 x  38 x 512 3.407 BF\n",
            " 149 conv     90       1 x 1/ 1     38 x  38 x 512 ->   38 x  38 x  90 0.133 BF\n",
            " 150 yolo\n",
            "[yolo] params: iou loss: ciou (4), iou_norm: 0.07, cls_norm: 1.00, scale_x_y: 1.10\n",
            "nms_kind: greedynms (1), beta = 0.600000 \n",
            " 151 route  147 \t\t                           ->   38 x  38 x 256 \n",
            " 152 conv    512       3 x 3/ 2     38 x  38 x 256 ->   19 x  19 x 512 0.852 BF\n",
            " 153 route  152 116 \t                           ->   19 x  19 x1024 \n",
            " 154 conv    512       1 x 1/ 1     19 x  19 x1024 ->   19 x  19 x 512 0.379 BF\n",
            " 155 conv   1024       3 x 3/ 1     19 x  19 x 512 ->   19 x  19 x1024 3.407 BF\n",
            " 156 conv    512       1 x 1/ 1     19 x  19 x1024 ->   19 x  19 x 512 0.379 BF\n",
            " 157 conv   1024       3 x 3/ 1     19 x  19 x 512 ->   19 x  19 x1024 3.407 BF\n",
            " 158 conv    512       1 x 1/ 1     19 x  19 x1024 ->   19 x  19 x 512 0.379 BF\n",
            " 159 conv   1024       3 x 3/ 1     19 x  19 x 512 ->   19 x  19 x1024 3.407 BF\n",
            " 160 conv     90       1 x 1/ 1     19 x  19 x1024 ->   19 x  19 x  90 0.067 BF\n",
            " 161 yolo\n",
            "[yolo] params: iou loss: ciou (4), iou_norm: 0.07, cls_norm: 1.00, scale_x_y: 1.05\n",
            "nms_kind: greedynms (1), beta = 0.600000 \n",
            "Total BFLOPS 127.605 \n",
            "avg_outputs = 1052952 \n",
            " Allocate additional workspace_size = 6.65 MB \n",
            "Loading weights from yolov4-custom_last.weights...\n",
            " seen 64, trained: 460 K-images (7 Kilo-batches_64) \n",
            "Done! Loaded 162 layers from weights-file \n",
            "Learning Rate: 0.001, Momentum: 0.949, Decay: 0.0005\n",
            " Detection layer: 139 - type = 27 \n",
            " Detection layer: 150 - type = 27 \n",
            " Detection layer: 161 - type = 27 \n",
            "Resizing, random_coef = 1.40 \n",
            "\n",
            " 896 x 896 \n",
            " Create 6 permanent cpu-threads \n"
          ],
          "name": "stdout"
        }
      ]
    },
    {
      "cell_type": "code",
      "metadata": {
        "id": "fjvLrSaHqR9i"
      },
      "source": [
        ""
      ],
      "execution_count": null,
      "outputs": []
    }
  ]
}